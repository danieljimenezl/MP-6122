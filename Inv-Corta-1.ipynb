{
 "cells": [
  {
   "cell_type": "markdown",
   "metadata": {},
   "source": [
    "# Pandas \n",
    "\n",
    "El presente tutorial tiene la intención de explicar, mediante ejemplos prácticos, las funciones básicas de la librería de python Pandas. Esta librería es una herramienta de código abierto creada para la manipulación y analisis de estructuras de datos.\n",
    "\n",
    "Como primer paso, se debe tener instalada la libreria y sus dependencias. Para esto visitar la página oficial de pandas, donde ademas se puede encontrar mas documentación:\n",
    "\n",
    "    https://pandas.pydata.org/\n",
    "    \n",
    "## Estructuras de Datos\n",
    "\n",
    "Al ser una herramienta que trabaja con datos, lo primero a repasar será las estructuras de datos que maneja Pandas, y como podemos transformar los datos que tengamos a disposición a estas estructuras.\n",
    "\n",
    "### Series\n",
    "\n",
    "Las series son arreglos de una sola dimensión, donde cada elemento o dato simplemente tiene asociado el indice, que corresponde a su posiscion dentro de la serie."
   ]
  },
  {
   "cell_type": "code",
   "execution_count": null,
   "metadata": {},
   "outputs": [],
   "source": [
    "import pandas as pds\n",
    "\n",
    "dataSet = pds.Series(['Lunes', 'Martes', 'Miercoles', 'Jueves', 'Viernes'])\n",
    "                     \n",
    "print (dataSet)"
   ]
  },
  {
   "cell_type": "markdown",
   "metadata": {},
   "source": [
    "A la función Series, además de los datos puede indicarse el indice para cada dato."
   ]
  },
  {
   "cell_type": "code",
   "execution_count": null,
   "metadata": {},
   "outputs": [],
   "source": [
    "import pandas as pds\n",
    "\n",
    "array = ['Lunes', 'Martes', 'Miercoles', 'Jueves', 'Viernes']\n",
    "index = [10,11,12,13,14]\n",
    "\n",
    "dataSet = pds.Series(data=array, index=index)\n",
    "                     \n",
    "print (dataSet)"
   ]
  },
  {
   "cell_type": "markdown",
   "metadata": {},
   "source": [
    "### DataFrame\n",
    "\n",
    "DataFrame es una estructura mas completa, formada por una tabla o matriz. Las filas continuan siendo el indice y las columnas tienen nombres que pueden representar diferentes caracteristicas. El siguiente ejemplo resume algunos surfistas con su edad, nacionalidad y la cantidad de titulos mundiales que tiene."
   ]
  },
  {
   "cell_type": "code",
   "execution_count": null,
   "metadata": {},
   "outputs": [],
   "source": [
    "import pandas as pds\n",
    "\n",
    "surferName = ['Kelly Slater', 'John John Florence', 'Filipe Toledo', 'Gabriel Medina', 'Mick Fanning']\n",
    "age = [47,26,24,25,37]\n",
    "nationality = ['USA', 'Hawaii', 'Brazil', 'Brazil', 'Australia']\n",
    "champ = [11,2,0,2,3]\n",
    "\n",
    "data = {'Name': surferName, 'Age': age, 'Nationality': nationality, 'Championships': champ}\n",
    "\n",
    "dataSet = pds.DataFrame(data=data)\n",
    "                     \n",
    "print (dataSet)"
   ]
  },
  {
   "cell_type": "markdown",
   "metadata": {},
   "source": [
    "DataFrame también permite asignar las etiquetas o nombres de las columnas como un argumento por aparte y indicarle explicitamente los indices."
   ]
  },
  {
   "cell_type": "code",
   "execution_count": null,
   "metadata": {},
   "outputs": [],
   "source": [
    "import pandas as pds\n",
    "import numpy as np\n",
    "\n",
    "Kelly = ['Kelly Slater',47,'USA',11]\n",
    "John = ['John John Florence',26,'Hawaii',2]\n",
    "Filipe = ['Filipe Toledo',24,'Brazil',0]\n",
    "Gabriel = ['Gabriel Medina',25,'Brazil',2]\n",
    "Mick = ['Mick Fanning',37,'Australia',3]\n",
    "\n",
    "data = np.array([Kelly,John,Filipe,Gabriel,Mick])\n",
    "index = [5,4,3,2,1]\n",
    "tags = ['Name', 'Age', 'Nationality', 'Championships']\n",
    "\n",
    "dataSet = pds.DataFrame(data=data,index=index,columns=tags)\n",
    "                     \n",
    "print (dataSet)"
   ]
  },
  {
   "cell_type": "markdown",
   "metadata": {},
   "source": [
    "### Leer CSV\n",
    "\n",
    "Uno de los métodos mas comunes para almacenar set de datos es en archivos de texto con los valores separados por coma, archivos con extensión csv. Pandas cuenta con una función para leer estos archivos y traducir la información en un DataFrame. El siguiente ejemplo es la lectura de un archivo csv que tiene los mismos datos utilizados en el ejemplo atenrior."
   ]
  },
  {
   "cell_type": "code",
   "execution_count": null,
   "metadata": {
    "scrolled": true
   },
   "outputs": [],
   "source": [
    "import pandas as pds\n",
    "\n",
    "data = pds.read_csv(\"Surfers.csv\")\n",
    "\n",
    "print (data)"
   ]
  },
  {
   "cell_type": "markdown",
   "metadata": {},
   "source": [
    "## Imprimir las estructuras\n",
    "\n",
    "Sin duda alguna es indispensable poder imprimir las estructuras de datos. Ya hemos trabajado con el print en los ejemplos anteriores, pero en la mayoria de casos los sets de datos son tan grandes que es ilegible imprimir la estructura completa. Se puede imprimir la cabeza, la cola y alguna muestra aleatoria.\n",
    "\n",
    "Para estos ejemplos y de acá en adelante se utilizará un set de datos con información sobre la descarga de aplicacciones del appstore de Apple."
   ]
  },
  {
   "cell_type": "code",
   "execution_count": null,
   "metadata": {},
   "outputs": [],
   "source": [
    "import pandas as pds\n",
    "\n",
    "data = pds.read_csv(\"AppleStore.csv\")\n",
    "\n",
    "data.head()"
   ]
  },
  {
   "cell_type": "code",
   "execution_count": null,
   "metadata": {
    "scrolled": true
   },
   "outputs": [],
   "source": [
    "import pandas as pds\n",
    "\n",
    "data = pds.read_csv(\"AppleStore.csv\")\n",
    "\n",
    "data.tail()"
   ]
  },
  {
   "cell_type": "code",
   "execution_count": null,
   "metadata": {
    "scrolled": true
   },
   "outputs": [],
   "source": [
    "import pandas as pds\n",
    "\n",
    "data = pds.read_csv(\"AppleStore.csv\")\n",
    "\n",
    "data.sample(5)"
   ]
  },
  {
   "cell_type": "markdown",
   "metadata": {},
   "source": [
    "Otra forma de imprimir información acerca de la estructura es mediante la funcion info, la cual imprime de manera resumida caracteristicas importantes de los datos como por ejemplo: el número de columnas y filas, los tipos de datos, cuantos datos nulos contiene el set, entre otros."
   ]
  },
  {
   "cell_type": "code",
   "execution_count": null,
   "metadata": {},
   "outputs": [],
   "source": [
    "import pandas as pds\n",
    "\n",
    "data = pds.read_csv(\"AppleStore.csv\")\n",
    "\n",
    "data.info()"
   ]
  },
  {
   "cell_type": "markdown",
   "metadata": {},
   "source": [
    "## Manipulación de las estructuras\n",
    "\n",
    "La escencia de la libreria es la facil manipulación de los datos. Pandas permite obtener columnas especificas del set completo. Por ejemplo, vamos a abstraer del set completo solo la columna del track_name y el user_rating."
   ]
  },
  {
   "cell_type": "code",
   "execution_count": null,
   "metadata": {},
   "outputs": [],
   "source": [
    "import pandas as pds\n",
    "\n",
    "data = pds.read_csv(\"AppleStore.csv\")\n",
    "dataRate = data[['track_name','user_rating']]\n",
    "\n",
    "dataRate.head()"
   ]
  },
  {
   "cell_type": "markdown",
   "metadata": {},
   "source": [
    "Se puede aplicar alguna función a todo un set de datos o especificamente a una columna. Por ejemplo, al ejemplo anterior, vamos a aplicarle la raiz cuadrada a la columna de user_rating. Se utiliza la función apply para esto."
   ]
  },
  {
   "cell_type": "code",
   "execution_count": null,
   "metadata": {},
   "outputs": [],
   "source": [
    "import pandas as pds\n",
    "import numpy as np\n",
    "\n",
    "data = pds.read_csv(\"AppleStore.csv\")\n",
    "\n",
    "data['user_rating'].apply(np.sqrt).head()"
   ]
  },
  {
   "cell_type": "markdown",
   "metadata": {},
   "source": [
    "Se puede eliminar tanto columnas como filas. La funcion drop nos permite realizar esta tarea, mediante el argumento axis se le indica si es una columna: axis=1 o una fila: axis=0."
   ]
  },
  {
   "cell_type": "code",
   "execution_count": null,
   "metadata": {},
   "outputs": [],
   "source": [
    "import pandas as pds\n",
    "\n",
    "data = pds.read_csv(\"AppleStore.csv\")\n",
    "data.drop(['id'],axis=1)"
   ]
  },
  {
   "cell_type": "code",
   "execution_count": null,
   "metadata": {},
   "outputs": [],
   "source": [
    "import pandas as pds\n",
    "\n",
    "data = pds.read_csv(\"AppleStore.csv\")\n",
    "data.drop([0],axis=0)"
   ]
  },
  {
   "cell_type": "markdown",
   "metadata": {},
   "source": [
    "Otra fucnion muy util es eliminar las filas repetidas. Con la función drop_duplicates se eliminaran todas aquellas filas repetidas del set de datos. Para este ejemplo vamos a utiliar nuevamente la matriz de los surfistas, repitiendo una de las filas."
   ]
  },
  {
   "cell_type": "code",
   "execution_count": null,
   "metadata": {},
   "outputs": [],
   "source": [
    "import pandas as pds\n",
    "import numpy as np\n",
    "\n",
    "Kelly = ['Kelly Slater',47,'USA',11]\n",
    "John = ['John John Florence',26,'Hawaii',2]\n",
    "Filipe = ['Filipe Toledo',24,'Brazil',0]\n",
    "Gabriel = ['Gabriel Medina',25,'Brazil',2]\n",
    "Mick = ['Mick Fanning',37,'Australia',3]\n",
    "Filipe2 = ['Filipe Toledo',24,'Brazil',0]\n",
    "\n",
    "data = np.array([Kelly,John,Filipe,Gabriel,Mick,Filipe2])\n",
    "index = [5,4,3,2,1,0]\n",
    "tags = ['Name', 'Age', 'Nationality', 'Championships']\n",
    "\n",
    "dataSet = pds.DataFrame(data=data,index=index,columns=tags)\n",
    "                     \n",
    "print (dataSet)\n",
    "\n",
    "dataSet.drop_duplicates()"
   ]
  },
  {
   "cell_type": "markdown",
   "metadata": {},
   "source": [
    "De las cosas mas importantes al manipular los datos es resolver los datos faltantes, o nulos. La función isnull retorna un DataFrame que indica mediante falso o verdadero si cada una de las celdas era nula o no. En conjunto con la función sum, podremos determinar cuantos elementos faltantes hay por columna. Por ejemplo, eliminemos un par de datos del ejemplo de los surfistas."
   ]
  },
  {
   "cell_type": "code",
   "execution_count": null,
   "metadata": {},
   "outputs": [],
   "source": [
    "import pandas as pds\n",
    "import numpy as np\n",
    "\n",
    "Kelly = ['Kelly Slater',47,None,11]\n",
    "John = ['John John Florence',26,'Hawaii',2]\n",
    "Filipe = ['Filipe Toledo',24,'Brazil',None]\n",
    "Gabriel = ['Gabriel Medina',25,'Brazil',2]\n",
    "Mick = ['Mick Fanning',None,'Australia',3]\n",
    "\n",
    "data = np.array([Kelly,John,Filipe,Gabriel,Mick])\n",
    "index = [5,4,3,2,1]\n",
    "tags = ['Name', 'Age', 'Nationality', 'Championships']\n",
    "\n",
    "dataSet = pds.DataFrame(data=data,index=index,columns=tags)\n",
    "\n",
    "dataSet.isnull().sum()"
   ]
  },
  {
   "cell_type": "markdown",
   "metadata": {},
   "source": [
    "Una forma de rellenar estos elementos nulos es con la funcion fillna. Nos permite remplazar todos los nulos de una columna o de el set completo con algun valor relevante. Siguiendo con el ejemplo anterior. Un detalle importante es el uso del atributo inplace, este modifica el set de datos con el resultado de la operación realizada."
   ]
  },
  {
   "cell_type": "code",
   "execution_count": null,
   "metadata": {},
   "outputs": [],
   "source": [
    "import pandas as pds\n",
    "import numpy as np\n",
    "\n",
    "Kelly = ['Kelly Slater',47,None,11]\n",
    "John = ['John John Florence',26,'Hawaii',2]\n",
    "Filipe = ['Filipe Toledo',24,'Brazil',None]\n",
    "Gabriel = ['Gabriel Medina',25,'Brazil',2]\n",
    "Mick = ['Mick Fanning',None,'Australia',3]\n",
    "\n",
    "data = np.array([Kelly,John,Filipe,Gabriel,Mick])\n",
    "index = [5,4,3,2,1]\n",
    "tags = ['Name', 'Age', 'Nationality', 'Championships']\n",
    "\n",
    "dataSet = pds.DataFrame(data=data,index=index,columns=tags)\n",
    "\n",
    "dataSet['Championships'].fillna(0, inplace=True)\n",
    "dataSet.head()"
   ]
  },
  {
   "cell_type": "markdown",
   "metadata": {},
   "source": [
    "Estos son algunos ejemplos basicos de algunas funciones basicas presentes en al libreria Pandas."
   ]
  },
  {
   "cell_type": "markdown",
   "metadata": {},
   "source": [
    "# Análisis Exploratorio\n",
    "\n",
    "Se procede ahora a realizar un pequeño análisis exploratorio de un set de datos, utilizando la libreria de pandas descrita anteriormente asi como librerias para realizar graficas, especificamente matplotlib. El set de datos a utilizar es el mismo utilizado en los ejemplos del tutorial. Son datos que contienen información acerca del appstore de Apple.\n",
    "\n",
    "Primero se obtendran procederá a graficar el numero de aplicaciones de los diferentes tipos o ambito de la aplicación. Esta es la columna que corresponde a prime_genre. Esto con la intención de observar de que tipo se descargan mas aplicaciones."
   ]
  },
  {
   "cell_type": "code",
   "execution_count": 67,
   "metadata": {},
   "outputs": [
    {
     "data": {
      "image/png": "[encoded data removed]",
      "text/plain": [
       "<Figure size 720x648 with 1 Axes>"
      ]
     },
     "metadata": {
      "needs_background": "light"
     },
     "output_type": "display_data"
    }
   ],
   "source": [
    "import pandas as pds\n",
    "import numpy as np\n",
    "import matplotlib.pyplot as plt\n",
    "\n",
    "%matplotlib inline\n",
    "\n",
    "data = pds.read_csv(\"AppleStore.csv\")\n",
    "lst = data.groupby('prime_genre').size()\n",
    "\n",
    "plt.figure(figsize=(10,9))\n",
    "plt.plot(lst,'o',color='red')\n",
    "plt.xticks(lst.index, rotation='vertical')\n",
    "plt.xlabel('Number of Apps')\n",
    "plt.ylabel('Categories')\n",
    "plt.tight_layout()\n",
    "plt.grid()\n",
    "plt.show()        "
   ]
  },
  {
   "cell_type": "markdown",
   "metadata": {},
   "source": [
    "El siguiente analisis a realizar será el valor de los precios, para observar al rededor de que precios se concentra la mayor cantidad de aplicaciones."
   ]
  },
  {
   "cell_type": "code",
   "execution_count": 47,
   "metadata": {},
   "outputs": [
    {
     "data": {
      "image/png": "[encoded data removed]",
      "text/plain": [
       "<Figure size 504x504 with 1 Axes>"
      ]
     },
     "metadata": {
      "needs_background": "light"
     },
     "output_type": "display_data"
    }
   ],
   "source": [
    "priceData = data['price']\n",
    "size = priceData.size\n",
    "\n",
    "price = []\n",
    "cnt = []\n",
    "\n",
    "for i in range(0,size):\n",
    "    if priceData[i] not in price:\n",
    "        price.append(priceData[i])\n",
    "        cnt.append(1)\n",
    "    else:\n",
    "        idx = price.index(priceData[i])\n",
    "        cnt[idx] = cnt[idx] + 1\n",
    "\n",
    "plt.figure(figsize=(7,7))\n",
    "plt.plot(cnt,price,'o',color='red')\n",
    "plt.ylabel('Price')\n",
    "plt.xlabel('Number of Apps')\n",
    "plt.tight_layout()\n",
    "plt.grid()\n",
    "plt.show()\n"
   ]
  },
  {
   "cell_type": "markdown",
   "metadata": {},
   "source": [
    "De la gráfica se observa que hay un par de precios bastante elevados con muy poca cantidad de aplicaciones que provocan la gráfica pierda mucha información. Si procede entonces a limitar el máximo del precio a 50 dolares."
   ]
  },
  {
   "cell_type": "code",
   "execution_count": 68,
   "metadata": {},
   "outputs": [
    {
     "data": {
      "image/png": "[encoded data removed]",
      "text/plain": [
       "<Figure size 504x504 with 1 Axes>"
      ]
     },
     "metadata": {
      "needs_background": "light"
     },
     "output_type": "display_data"
    }
   ],
   "source": [
    "priceData = data['price']\n",
    "size = priceData.size\n",
    "\n",
    "price = []\n",
    "cnt = []\n",
    "\n",
    "for i in range(0,size):\n",
    "    if priceData[i].astype(int) < 50:\n",
    "        if priceData[i] not in price:\n",
    "            price.append(priceData[i])\n",
    "            cnt.append(1)\n",
    "        else:\n",
    "            idx = price.index(priceData[i])\n",
    "            cnt[idx] = cnt[idx] + 1\n",
    "\n",
    "plt.figure(figsize=(7,7))\n",
    "plt.plot(cnt,price,'o',color='red')\n",
    "plt.ylabel('Price')\n",
    "plt.xlabel('Number of Apps')\n",
    "plt.tight_layout()\n",
    "plt.grid()\n",
    "plt.show()"
   ]
  },
  {
   "cell_type": "code",
   "execution_count": null,
   "metadata": {},
   "outputs": [],
   "source": []
  }
 ],
 "metadata": {
  "kernelspec": {
   "display_name": "Python 3",
   "language": "python",
   "name": "python3"
  },
  "language_info": {
   "codemirror_mode": {
    "name": "ipython",
    "version": 3
   },
   "file_extension": ".py",
   "mimetype": "text/x-python",
   "name": "python",
   "nbconvert_exporter": "python",
   "pygments_lexer": "ipython3",
   "version": "3.7.3"
  }
 },
 "nbformat": 4,
 "nbformat_minor": 2
}
