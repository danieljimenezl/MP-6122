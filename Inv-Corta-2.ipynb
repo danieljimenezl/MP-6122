{
 "cells": [
  {
   "cell_type": "markdown",
   "metadata": {},
   "source": [
    "# Aprendizaje Supervisado\n",
    "\n",
    "El presente cuaderno tiene la intención de repasar algunos métodos de aprendizaje automático supervisado sobre algun set de datos con el fin de poder comparar las diferentes carácteristicas, fortalezas y debilidades de los diferentes algoritmos utilizados.\n",
    "\n",
    "## Conjunto de Datos\n",
    "\n",
    "El conjunto de datos a utilizar reune caracteristicas de accidentes de automoviles a lo largo de los años en Canada. El conjunto de datos se puede obtener del siguiente enlace:\n",
    "\n",
    "    https://www.kaggle.com/tbsteal/canadian-car-accidents-19942014\n",
    "    \n",
    "Inicialmente se importa la biblioteca pandas y se leen los datos. Son asignados a un DataFrame de pandas."
   ]
  },
  {
   "cell_type": "code",
   "execution_count": 1,
   "metadata": {},
   "outputs": [
    {
     "name": "stderr",
     "output_type": "stream",
     "text": [
      "/home/djimenezl/miniconda3/envs/RecPatrones/lib/python3.7/site-packages/IPython/core/interactiveshell.py:3049: DtypeWarning: Columns (1,2,5,12) have mixed types. Specify dtype option on import or set low_memory=False.\n",
      "  interactivity=interactivity, compiler=compiler, result=result)\n"
     ]
    },
    {
     "data": {
      "text/html": [
       "<div>\n",
       "<style scoped>\n",
       "    .dataframe tbody tr th:only-of-type {\n",
       "        vertical-align: middle;\n",
       "    }\n",
       "\n",
       "    .dataframe tbody tr th {\n",
       "        vertical-align: top;\n",
       "    }\n",
       "\n",
       "    .dataframe thead th {\n",
       "        text-align: right;\n",
       "    }\n",
       "</style>\n",
       "<table border=\"1\" class=\"dataframe\">\n",
       "  <thead>\n",
       "    <tr style=\"text-align: right;\">\n",
       "      <th></th>\n",
       "      <th>C_YEAR</th>\n",
       "      <th>C_MNTH</th>\n",
       "      <th>C_WDAY</th>\n",
       "      <th>C_HOUR</th>\n",
       "      <th>C_SEV</th>\n",
       "      <th>C_VEHS</th>\n",
       "      <th>C_CONF</th>\n",
       "      <th>C_RCFG</th>\n",
       "      <th>C_WTHR</th>\n",
       "      <th>C_RSUR</th>\n",
       "      <th>...</th>\n",
       "      <th>V_ID</th>\n",
       "      <th>V_TYPE</th>\n",
       "      <th>V_YEAR</th>\n",
       "      <th>P_ID</th>\n",
       "      <th>P_SEX</th>\n",
       "      <th>P_AGE</th>\n",
       "      <th>P_PSN</th>\n",
       "      <th>P_ISEV</th>\n",
       "      <th>P_SAFE</th>\n",
       "      <th>P_USER</th>\n",
       "    </tr>\n",
       "  </thead>\n",
       "  <tbody>\n",
       "    <tr>\n",
       "      <th>0</th>\n",
       "      <td>1999</td>\n",
       "      <td>1</td>\n",
       "      <td>1</td>\n",
       "      <td>20</td>\n",
       "      <td>2</td>\n",
       "      <td>02</td>\n",
       "      <td>34</td>\n",
       "      <td>UU</td>\n",
       "      <td>1</td>\n",
       "      <td>5</td>\n",
       "      <td>...</td>\n",
       "      <td>01</td>\n",
       "      <td>06</td>\n",
       "      <td>1990</td>\n",
       "      <td>01</td>\n",
       "      <td>M</td>\n",
       "      <td>41</td>\n",
       "      <td>11</td>\n",
       "      <td>1</td>\n",
       "      <td>UU</td>\n",
       "      <td>1</td>\n",
       "    </tr>\n",
       "    <tr>\n",
       "      <th>1</th>\n",
       "      <td>1999</td>\n",
       "      <td>1</td>\n",
       "      <td>1</td>\n",
       "      <td>20</td>\n",
       "      <td>2</td>\n",
       "      <td>02</td>\n",
       "      <td>34</td>\n",
       "      <td>UU</td>\n",
       "      <td>1</td>\n",
       "      <td>5</td>\n",
       "      <td>...</td>\n",
       "      <td>02</td>\n",
       "      <td>01</td>\n",
       "      <td>1987</td>\n",
       "      <td>01</td>\n",
       "      <td>M</td>\n",
       "      <td>19</td>\n",
       "      <td>11</td>\n",
       "      <td>1</td>\n",
       "      <td>UU</td>\n",
       "      <td>1</td>\n",
       "    </tr>\n",
       "    <tr>\n",
       "      <th>2</th>\n",
       "      <td>1999</td>\n",
       "      <td>1</td>\n",
       "      <td>1</td>\n",
       "      <td>20</td>\n",
       "      <td>2</td>\n",
       "      <td>02</td>\n",
       "      <td>34</td>\n",
       "      <td>UU</td>\n",
       "      <td>1</td>\n",
       "      <td>5</td>\n",
       "      <td>...</td>\n",
       "      <td>02</td>\n",
       "      <td>01</td>\n",
       "      <td>1987</td>\n",
       "      <td>02</td>\n",
       "      <td>F</td>\n",
       "      <td>20</td>\n",
       "      <td>13</td>\n",
       "      <td>2</td>\n",
       "      <td>02</td>\n",
       "      <td>2</td>\n",
       "    </tr>\n",
       "    <tr>\n",
       "      <th>3</th>\n",
       "      <td>1999</td>\n",
       "      <td>1</td>\n",
       "      <td>1</td>\n",
       "      <td>08</td>\n",
       "      <td>2</td>\n",
       "      <td>01</td>\n",
       "      <td>01</td>\n",
       "      <td>UU</td>\n",
       "      <td>5</td>\n",
       "      <td>3</td>\n",
       "      <td>...</td>\n",
       "      <td>01</td>\n",
       "      <td>01</td>\n",
       "      <td>1986</td>\n",
       "      <td>01</td>\n",
       "      <td>M</td>\n",
       "      <td>46</td>\n",
       "      <td>11</td>\n",
       "      <td>1</td>\n",
       "      <td>UU</td>\n",
       "      <td>1</td>\n",
       "    </tr>\n",
       "    <tr>\n",
       "      <th>4</th>\n",
       "      <td>1999</td>\n",
       "      <td>1</td>\n",
       "      <td>1</td>\n",
       "      <td>08</td>\n",
       "      <td>2</td>\n",
       "      <td>01</td>\n",
       "      <td>01</td>\n",
       "      <td>UU</td>\n",
       "      <td>5</td>\n",
       "      <td>3</td>\n",
       "      <td>...</td>\n",
       "      <td>99</td>\n",
       "      <td>NN</td>\n",
       "      <td>NNNN</td>\n",
       "      <td>01</td>\n",
       "      <td>M</td>\n",
       "      <td>05</td>\n",
       "      <td>99</td>\n",
       "      <td>2</td>\n",
       "      <td>UU</td>\n",
       "      <td>3</td>\n",
       "    </tr>\n",
       "  </tbody>\n",
       "</table>\n",
       "<p>5 rows × 22 columns</p>\n",
       "</div>"
      ],
      "text/plain": [
       "   C_YEAR C_MNTH C_WDAY C_HOUR  C_SEV C_VEHS C_CONF C_RCFG C_WTHR C_RSUR  ...  \\\n",
       "0    1999      1      1     20      2     02     34     UU      1      5  ...   \n",
       "1    1999      1      1     20      2     02     34     UU      1      5  ...   \n",
       "2    1999      1      1     20      2     02     34     UU      1      5  ...   \n",
       "3    1999      1      1     08      2     01     01     UU      5      3  ...   \n",
       "4    1999      1      1     08      2     01     01     UU      5      3  ...   \n",
       "\n",
       "  V_ID V_TYPE V_YEAR P_ID P_SEX P_AGE P_PSN P_ISEV P_SAFE P_USER  \n",
       "0   01     06   1990   01     M    41    11      1     UU      1  \n",
       "1   02     01   1987   01     M    19    11      1     UU      1  \n",
       "2   02     01   1987   02     F    20    13      2     02      2  \n",
       "3   01     01   1986   01     M    46    11      1     UU      1  \n",
       "4   99     NN   NNNN   01     M    05    99      2     UU      3  \n",
       "\n",
       "[5 rows x 22 columns]"
      ]
     },
     "execution_count": 1,
     "metadata": {},
     "output_type": "execute_result"
    }
   ],
   "source": [
    "import pandas as pd\n",
    "\n",
    "data = pd.read_csv(\"CandaCarAccidents/NCDB_1999_to_2014.csv\")\n",
    "\n",
    "data.head()"
   ]
  },
  {
   "cell_type": "markdown",
   "metadata": {},
   "source": [
    "Dentro de la documentación de los datos se espcifica a que corresponde cada una de las columnas. La intención del análisis será poder determinar la severidad del accidente (C_SEV) a partir de: \n",
    "\n",
    "    -V_YEAR: el año del vehiculo accidentado.\n",
    "    -C_VEHS: cantidad de vehiculos involucrados en el accidente.\n",
    "    -C_WTHR: clima cuando ocurrió el accidente.\n",
    "    -C_RSUR: estado de la carretera.\n",
    "    \n",
    "La severidad del accidente corresponde basicamente a si hubieron fallecidos, accidentados o solo daños materiales. Se procede entonces a eliminar las columnas que no serán utilizadas del conjunto de datos. Además se decide recortar la cantidad de filas a 500mil esto simplemente con el fin de poder agilizar la duración de los métodos."
   ]
  },
  {
   "cell_type": "code",
   "execution_count": 2,
   "metadata": {},
   "outputs": [
    {
     "data": {
      "text/html": [
       "<div>\n",
       "<style scoped>\n",
       "    .dataframe tbody tr th:only-of-type {\n",
       "        vertical-align: middle;\n",
       "    }\n",
       "\n",
       "    .dataframe tbody tr th {\n",
       "        vertical-align: top;\n",
       "    }\n",
       "\n",
       "    .dataframe thead th {\n",
       "        text-align: right;\n",
       "    }\n",
       "</style>\n",
       "<table border=\"1\" class=\"dataframe\">\n",
       "  <thead>\n",
       "    <tr style=\"text-align: right;\">\n",
       "      <th></th>\n",
       "      <th>V_YEAR</th>\n",
       "      <th>C_VEHS</th>\n",
       "      <th>C_WTHR</th>\n",
       "      <th>C_RSUR</th>\n",
       "      <th>C_SEV</th>\n",
       "    </tr>\n",
       "  </thead>\n",
       "  <tbody>\n",
       "    <tr>\n",
       "      <th>0</th>\n",
       "      <td>1990</td>\n",
       "      <td>02</td>\n",
       "      <td>1</td>\n",
       "      <td>5</td>\n",
       "      <td>2</td>\n",
       "    </tr>\n",
       "    <tr>\n",
       "      <th>1</th>\n",
       "      <td>1987</td>\n",
       "      <td>02</td>\n",
       "      <td>1</td>\n",
       "      <td>5</td>\n",
       "      <td>2</td>\n",
       "    </tr>\n",
       "    <tr>\n",
       "      <th>2</th>\n",
       "      <td>1987</td>\n",
       "      <td>02</td>\n",
       "      <td>1</td>\n",
       "      <td>5</td>\n",
       "      <td>2</td>\n",
       "    </tr>\n",
       "    <tr>\n",
       "      <th>3</th>\n",
       "      <td>1986</td>\n",
       "      <td>01</td>\n",
       "      <td>5</td>\n",
       "      <td>3</td>\n",
       "      <td>2</td>\n",
       "    </tr>\n",
       "    <tr>\n",
       "      <th>4</th>\n",
       "      <td>NNNN</td>\n",
       "      <td>01</td>\n",
       "      <td>5</td>\n",
       "      <td>3</td>\n",
       "      <td>2</td>\n",
       "    </tr>\n",
       "  </tbody>\n",
       "</table>\n",
       "</div>"
      ],
      "text/plain": [
       "  V_YEAR C_VEHS C_WTHR C_RSUR  C_SEV\n",
       "0   1990     02      1      5      2\n",
       "1   1987     02      1      5      2\n",
       "2   1987     02      1      5      2\n",
       "3   1986     01      5      3      2\n",
       "4   NNNN     01      5      3      2"
      ]
     },
     "execution_count": 2,
     "metadata": {},
     "output_type": "execute_result"
    }
   ],
   "source": [
    "RelevantCols = ['V_YEAR','C_VEHS','C_WTHR','C_RSUR','C_SEV']\n",
    "data = data[RelevantCols]\n",
    "data = data[:500000]\n",
    "data.head()"
   ]
  },
  {
   "cell_type": "markdown",
   "metadata": {},
   "source": [
    "Se procede a revisar si hay datos nulos."
   ]
  },
  {
   "cell_type": "code",
   "execution_count": 3,
   "metadata": {},
   "outputs": [
    {
     "data": {
      "text/plain": [
       "False"
      ]
     },
     "execution_count": 3,
     "metadata": {},
     "output_type": "execute_result"
    }
   ],
   "source": [
    "data.isnull().values.any()"
   ]
  },
  {
   "cell_type": "markdown",
   "metadata": {},
   "source": [
    "No hay datos nulos. Se procede a imprimir la cantidad de columnas y filas."
   ]
  },
  {
   "cell_type": "code",
   "execution_count": 4,
   "metadata": {},
   "outputs": [
    {
     "data": {
      "text/plain": [
       "(500000, 5)"
      ]
     },
     "execution_count": 4,
     "metadata": {},
     "output_type": "execute_result"
    }
   ],
   "source": [
    "data.shape"
   ]
  },
  {
   "cell_type": "markdown",
   "metadata": {},
   "source": [
    "A pesar de que no hay datos nulos, el conjunto de datos tiene una nomencaltura especifica para indicar cuando un dato no esta disponible o no pudo ser recolectado, por lo tanto se procede a elminiar las filas que contengan este tipo de información. Además estos elementos no son númericos por lo tanto no pueden ser procesados por los métodos."
   ]
  },
  {
   "cell_type": "code",
   "execution_count": 6,
   "metadata": {},
   "outputs": [
    {
     "name": "stderr",
     "output_type": "stream",
     "text": [
      "/home/djimenezl/miniconda3/envs/RecPatrones/lib/python3.7/site-packages/pandas/core/ops.py:1649: FutureWarning: elementwise comparison failed; returning scalar instead, but in the future will perform elementwise comparison\n",
      "  result = method(y)\n"
     ]
    }
   ],
   "source": [
    "data = data[(data['V_YEAR'] != 'NNNN') & (data['V_YEAR'] != 'UUUU') &\n",
    "            (data['C_VEHS'] != 'UU') & (data['C_VEHS'] != 'XX') &\n",
    "            (data['C_WTHR'] != 'Q') & (data['C_WTHR'] != 'U') & (data['C_WTHR'] != 'X') &\n",
    "            (data['C_RSUR'] != 'Q') & (data['C_RSUR'] != 'U') & (data['C_RSUR'] != 'X') &\n",
    "            (data['C_SEV'] != 'U') & (data['C_SEV'] != 'X')]"
   ]
  },
  {
   "cell_type": "markdown",
   "metadata": {},
   "source": [
    "Se imprime nuevamente la cantidad de columnas y filas."
   ]
  },
  {
   "cell_type": "code",
   "execution_count": 8,
   "metadata": {},
   "outputs": [
    {
     "data": {
      "text/plain": [
       "(427623, 5)"
      ]
     },
     "execution_count": 8,
     "metadata": {},
     "output_type": "execute_result"
    }
   ],
   "source": [
    "data.shape"
   ]
  },
  {
   "cell_type": "markdown",
   "metadata": {},
   "source": [
    "Evidentemente se disminuyó el tamaño del conjunto de datos pero aun hay bastante información para trabajar. Por último, se separa la información en los features y los labels. Basicamente las entradas y la etiqueta para cada cambinación de entradas."
   ]
  },
  {
   "cell_type": "code",
   "execution_count": 9,
   "metadata": {},
   "outputs": [
    {
     "data": {
      "text/html": [
       "<div>\n",
       "<style scoped>\n",
       "    .dataframe tbody tr th:only-of-type {\n",
       "        vertical-align: middle;\n",
       "    }\n",
       "\n",
       "    .dataframe tbody tr th {\n",
       "        vertical-align: top;\n",
       "    }\n",
       "\n",
       "    .dataframe thead th {\n",
       "        text-align: right;\n",
       "    }\n",
       "</style>\n",
       "<table border=\"1\" class=\"dataframe\">\n",
       "  <thead>\n",
       "    <tr style=\"text-align: right;\">\n",
       "      <th></th>\n",
       "      <th>V_YEAR</th>\n",
       "      <th>C_VEHS</th>\n",
       "      <th>C_WTHR</th>\n",
       "      <th>C_RSUR</th>\n",
       "    </tr>\n",
       "  </thead>\n",
       "  <tbody>\n",
       "    <tr>\n",
       "      <th>0</th>\n",
       "      <td>1990</td>\n",
       "      <td>02</td>\n",
       "      <td>1</td>\n",
       "      <td>5</td>\n",
       "    </tr>\n",
       "    <tr>\n",
       "      <th>1</th>\n",
       "      <td>1987</td>\n",
       "      <td>02</td>\n",
       "      <td>1</td>\n",
       "      <td>5</td>\n",
       "    </tr>\n",
       "    <tr>\n",
       "      <th>2</th>\n",
       "      <td>1987</td>\n",
       "      <td>02</td>\n",
       "      <td>1</td>\n",
       "      <td>5</td>\n",
       "    </tr>\n",
       "    <tr>\n",
       "      <th>3</th>\n",
       "      <td>1986</td>\n",
       "      <td>01</td>\n",
       "      <td>5</td>\n",
       "      <td>3</td>\n",
       "    </tr>\n",
       "    <tr>\n",
       "      <th>5</th>\n",
       "      <td>1984</td>\n",
       "      <td>03</td>\n",
       "      <td>1</td>\n",
       "      <td>2</td>\n",
       "    </tr>\n",
       "  </tbody>\n",
       "</table>\n",
       "</div>"
      ],
      "text/plain": [
       "  V_YEAR C_VEHS C_WTHR C_RSUR\n",
       "0   1990     02      1      5\n",
       "1   1987     02      1      5\n",
       "2   1987     02      1      5\n",
       "3   1986     01      5      3\n",
       "5   1984     03      1      2"
      ]
     },
     "execution_count": 9,
     "metadata": {},
     "output_type": "execute_result"
    }
   ],
   "source": [
    "features = data[['V_YEAR','C_VEHS','C_WTHR','C_RSUR']]\n",
    "labels = data['C_SEV']\n",
    "\n",
    "features.head()"
   ]
  },
  {
   "cell_type": "code",
   "execution_count": 10,
   "metadata": {},
   "outputs": [
    {
     "data": {
      "text/plain": [
       "0    2\n",
       "1    2\n",
       "2    2\n",
       "3    2\n",
       "5    2\n",
       "Name: C_SEV, dtype: int64"
      ]
     },
     "execution_count": 10,
     "metadata": {},
     "output_type": "execute_result"
    }
   ],
   "source": [
    "labels.head()"
   ]
  },
  {
   "cell_type": "markdown",
   "metadata": {},
   "source": [
    "Antes de iniciar a aplicar los métodos se procede a separar el conjunto de datos en dos grupos, el de pruebas y el de testing. Se importa la librería model_selection de sklearn, específicamente train_test_split."
   ]
  },
  {
   "cell_type": "code",
   "execution_count": null,
   "metadata": {},
   "outputs": [],
   "source": [
    "from sklearn.model_selection import train_test_split\n",
    "\n",
    "FeaturesTrain, FeaturesTest, LabelsTrain, LabelsTest = train_test_split(features,labels, random_state=13)"
   ]
  },
  {
   "cell_type": "markdown",
   "metadata": {},
   "source": [
    "Se imprimen los tamaños de los grupos para verificar que se haya separado el conjunto original adecuadamente."
   ]
  },
  {
   "cell_type": "code",
   "execution_count": null,
   "metadata": {},
   "outputs": [],
   "source": [
    "FeaturesTrain.shape"
   ]
  },
  {
   "cell_type": "code",
   "execution_count": null,
   "metadata": {},
   "outputs": [],
   "source": [
    "LabelsTrain.shape"
   ]
  },
  {
   "cell_type": "code",
   "execution_count": null,
   "metadata": {},
   "outputs": [],
   "source": [
    "FeaturesTest.shape"
   ]
  },
  {
   "cell_type": "code",
   "execution_count": null,
   "metadata": {},
   "outputs": [],
   "source": [
    "LabelsTest.shape"
   ]
  },
  {
   "cell_type": "markdown",
   "metadata": {},
   "source": [
    "## Decision Trees\n",
    "\n",
    "Este será el primer método a utilizar. Tiene un muy buen desemepeño independientemente de que tanto preprosesamiento se haya aplicado al set de datos, especificamente cuando están en múltiples escalas. Se espera que se pueda obtener un resultado rápido.\n",
    "\n",
    "El hiper parámetro principal que se le puede pasar es la profundidad, por lo tanto para seleccionar el valor adecuado se procederá a iterar con diferentes valores de profundidad a ver con cual se obtienen mejores resutlados. Evitando tanto el overfitting como el underfitting. "
   ]
  },
  {
   "cell_type": "code",
   "execution_count": 16,
   "metadata": {},
   "outputs": [],
   "source": [
    "from sklearn.tree import DecisionTreeClassifier\n",
    "\n",
    "TrainAccuracy = []\n",
    "TestAccuracy = []\n",
    "\n",
    "depthValues = range(1,10)\n",
    "for depth in depthValues:\n",
    "    DTree = DecisionTreeClassifier(max_depth = depth)\n",
    "    DTree.fit(FeaturesTrain,LabelsTrain)\n",
    "\n",
    "    TrainAccuracy.append(DTree.score(FeaturesTrain, LabelsTrain))\n",
    "    TestAccuracy.append(DTree.score(FeaturesTest, LabelsTest))"
   ]
  },
  {
   "cell_type": "markdown",
   "metadata": {},
   "source": [
    "Para poder visualizar de mejor forma los resultados obtenidos se grafica el score obtenido para cada valor de profundidad utilizado, tanto con los valores de entrenamiento, como con los valores de prueba."
   ]
  },
  {
   "cell_type": "code",
   "execution_count": 17,
   "metadata": {},
   "outputs": [
    {
     "data": {
      "text/plain": [
       "<matplotlib.legend.Legend at 0x7fd05dc27c88>"
      ]
     },
     "execution_count": 17,
     "metadata": {},
     "output_type": "execute_result"
    },
    {
     "data": {
      "image/png": "[encoded data removed]",
      "text/plain": [
       "<Figure size 432x288 with 1 Axes>"
      ]
     },
     "metadata": {
      "needs_background": "light"
     },
     "output_type": "display_data"
    }
   ],
   "source": [
    "import matplotlib.pyplot as plt\n",
    "%matplotlib inline\n",
    "\n",
    "plt.plot(depthValues, TrainAccuracy, label=\"Train Accuracy\")\n",
    "plt.plot(depthValues, TestAccuracy, label=\"Test Accuracy\")\n",
    "plt.ylabel(\"Accuracy\")\n",
    "plt.xlabel(\"depth\")\n",
    "plt.legend()"
   ]
  },
  {
   "cell_type": "markdown",
   "metadata": {},
   "source": [
    "Efectivamente fue un método con resultados bastante rápidos, y con un score muy alto en general para cualquier valor de profundidad utilizado. Se podría considerar el valor de 8 como el ideal, porque es cuando ambas curvas se encuentran mas juntas, que es justo lo que queremos para evitar el over y underfitting."
   ]
  },
  {
   "cell_type": "markdown",
   "metadata": {},
   "source": [
    "## KNN - K Nearest Neighbors\n",
    "\n",
    "Contuando con el siguiente método, se procede a utilizar el KNN (K Nearest Neighbords). Es uno de los algoritmos mas simples, y se basa en el grupo o etiquita a la cual pertenencen los vecinos para tomar la decisión de a cual grupo se debe pertenecer.\n",
    "\n",
    "Este método tiene como hiper parámetro precisamente ese número de vecinos por los cuales se va a consultar. Para determinar cual es el valor mas indicado nuevamente se itera con distintos valores, y se comparan los resultados."
   ]
  },
  {
   "cell_type": "code",
   "execution_count": 31,
   "metadata": {},
   "outputs": [],
   "source": [
    "from sklearn.neighbors import KNeighborsClassifier\n",
    "\n",
    "TrainAccuracy = []\n",
    "TestAccuracy = []\n",
    "\n",
    "neighborsValues = [1, 2, 3, 4]\n",
    "for nb in neighborsValues:\n",
    "    kNN = KNeighborsClassifier(n_neighbors=nb)\n",
    "    kNN.fit(FeaturesTrain, LabelsTrain)\n",
    "    \n",
    "    TrainAccuracy.append(kNN.score(FeaturesTrain, LabelsTrain))\n",
    "    TestAccuracy.append(kNN.score(FeaturesTest, LabelsTest))"
   ]
  },
  {
   "cell_type": "markdown",
   "metadata": {},
   "source": [
    "Nuevamente, se grafica el score obtenido para cada valor de nb utilizado, tanto con los valores de entrenamiento, como con los valores de prueba."
   ]
  },
  {
   "cell_type": "code",
   "execution_count": 32,
   "metadata": {},
   "outputs": [
    {
     "data": {
      "text/plain": [
       "<matplotlib.legend.Legend at 0x7fd05cd5d438>"
      ]
     },
     "execution_count": 32,
     "metadata": {},
     "output_type": "execute_result"
    },
    {
     "data": {
      "image/png": "[encoded data removed]",
      "text/plain": [
       "<Figure size 432x288 with 1 Axes>"
      ]
     },
     "metadata": {
      "needs_background": "light"
     },
     "output_type": "display_data"
    }
   ],
   "source": [
    "plt.plot(neighborsValues, TrainAccuracy, label=\"Train Accuracy\")\n",
    "plt.plot(neighborsValues, TestAccuracy, label=\"Test Accuracy\")\n",
    "plt.ylabel(\"Accuracy\")\n",
    "plt.xlabel(\"Neighbors\")\n",
    "plt.legend()"
   ]
  },
  {
   "cell_type": "markdown",
   "metadata": {},
   "source": [
    "Tal y como las desventajas lo mencionan, es un método que para conjuntos de datos grandes, puede volverse lento, y efectivamente es considerablemente mas lento que el primer metodo, en el cual estamos iterando 10 veces y acá solo 4.\n",
    "\n",
    "Ahora los resultados obtenidos son de igual manera de mucha calidad. Se observa que la diferencia entre el grupo de entrenamiento y el grupo de prueba es basicamente despreciable. Por lo tanto el valor ideal de nb seriá 3, ya que es donde el score es mas alto."
   ]
  },
  {
   "cell_type": "markdown",
   "metadata": {},
   "source": [
    "# Support Vector Classification\n",
    "\n",
    "Los clasificadores de vector de soporte son métodos que tiene una buena precisión, principalmente ideales cuando el conjunto de datos son pequeños y sencillos. Este método tiene la caracteristica que el tiene su propio mecanismo de iteración con el cual intenta buscar la mayor precisión posible, y una vez que la haya alcanzado finaliza el entrenamiento.\n",
    "\n",
    "Aun asignando un valor muy alto de iteraciones el método no logra converger. Esto va de la mano con que puede volverse inapropiado para conjuntos de datos muy grandes. Por lo tanto se descarta el uso de este algoritmo."
   ]
  },
  {
   "cell_type": "code",
   "execution_count": null,
   "metadata": {},
   "outputs": [],
   "source": [
    "from sklearn.svm import LinearSVC\n",
    "\n",
    "SVC = LinearSVC(random_state=1, max_iter=100000)\n",
    "SVC.fit(FeaturesTrain, LabelsTrain)"
   ]
  },
  {
   "cell_type": "code",
   "execution_count": 25,
   "metadata": {},
   "outputs": [
    {
     "data": {
      "text/plain": [
       "0.01724879800946626"
      ]
     },
     "execution_count": 25,
     "metadata": {},
     "output_type": "execute_result"
    }
   ],
   "source": [
    "from sklearn.metrics import accuracy_score\n",
    "\n",
    "LabelsPredict = SVC.predict(FeaturesTest)\n",
    "accuracy_score(LabelsTest, LabelsPredict)"
   ]
  },
  {
   "cell_type": "markdown",
   "metadata": {},
   "source": [
    "## Naive Bayes\n",
    "\n",
    "Este método se basa en el teorema de Bayes. Es un algoritmo que trabaja rápido en conjutos de datos grandes y hay diferentes tipos que se pueden utilizar dependiendo de la naturaleza de los datos. En este caso se utilizará el Multinomial.\n",
    "\n",
    "Como hiper parámetro utiliza la variable alpha, que se utiliza para suavizar los datos. De igual manera que para los métodos anteriores, se iterará sobre distintos valores de alpha para determinar el mas adecuado."
   ]
  },
  {
   "cell_type": "code",
   "execution_count": 33,
   "metadata": {},
   "outputs": [],
   "source": [
    "from sklearn.naive_bayes import MultinomialNB\n",
    "\n",
    "TrainAccuracy = []\n",
    "TestAccuracy = []\n",
    "\n",
    "alphaValues = [0.2, 0.6, 0.8, 1.0]\n",
    "for alpha in alphaValues:\n",
    "    NB = MultinomialNB(alpha=alpha)\n",
    "    NB.fit(FeaturesTrain, LabelsTrain)\n",
    "    \n",
    "    TrainAccuracy.append(NB.score(FeaturesTrain, LabelsTrain))\n",
    "    TestAccuracy.append(NB.score(FeaturesTest, LabelsTest))    "
   ]
  },
  {
   "cell_type": "markdown",
   "metadata": {},
   "source": [
    "Se grafican los resultados obtenidos para visualizar mas facilmente los diferentes casos."
   ]
  },
  {
   "cell_type": "code",
   "execution_count": 28,
   "metadata": {},
   "outputs": [
    {
     "data": {
      "text/plain": [
       "<matplotlib.legend.Legend at 0x7fd05ce65748>"
      ]
     },
     "execution_count": 28,
     "metadata": {},
     "output_type": "execute_result"
    },
    {
     "data": {
      "image/png": "[encoded data removed]",
      "text/plain": [
       "<Figure size 432x288 with 1 Axes>"
      ]
     },
     "metadata": {
      "needs_background": "light"
     },
     "output_type": "display_data"
    }
   ],
   "source": [
    "plt.plot(alphaValues, TrainAccuracy, label=\"Train Accuracy\")\n",
    "plt.plot(alphaValues, TestAccuracy, label=\"Test Accuracy\")\n",
    "plt.ylabel(\"Accuracy\")\n",
    "plt.xlabel(\"Alpha Values\")\n",
    "plt.legend()"
   ]
  },
  {
   "cell_type": "markdown",
   "metadata": {},
   "source": [
    "Efectivamente es un método bastante ráido y es altamente efectivo. Los resultados obtenidos son muy positivos y basicamente la diferencia entre el conjunto de pruebas y el de entrenamiento es despreciable. Basicamente se puede selecionar cualquier valor de alpha ya que no varía el resultado."
   ]
  },
  {
   "cell_type": "markdown",
   "metadata": {},
   "source": [
    "## Stochastic Gradient Descent\n",
    "\n",
    "Este método tiene la párticularidad, al igual que el SVC de detenerse cuando el mismo determina que los resultados obtenidos no estan cambiando el nivel de exactitud del algoritmo.\n",
    "\n",
    "Por lo tanto se le indica con el early_stopping que se pretende parar cuando el considere los resultados son los mismos. Se le da un maximo número de iteraciónes y además se le indica que cambie los datos entre cada iteración para asegurarse que el algoritmo ya no se le puede sacar un mejor rendimiento. "
   ]
  },
  {
   "cell_type": "code",
   "execution_count": 38,
   "metadata": {},
   "outputs": [
    {
     "data": {
      "text/plain": [
       "SGDClassifier(alpha=0.0001, average=False, class_weight=None,\n",
       "              early_stopping=True, epsilon=0.1, eta0=0.0, fit_intercept=True,\n",
       "              l1_ratio=0.15, learning_rate='optimal', loss='hinge',\n",
       "              max_iter=1000, n_iter_no_change=5, n_jobs=None, penalty='l2',\n",
       "              power_t=0.5, random_state=None, shuffle=True, tol=0.001,\n",
       "              validation_fraction=0.1, verbose=0, warm_start=False)"
      ]
     },
     "execution_count": 38,
     "metadata": {},
     "output_type": "execute_result"
    }
   ],
   "source": [
    "from sklearn.linear_model import SGDClassifier\n",
    "\n",
    "SGD = SGDClassifier(shuffle=True, early_stopping=True, max_iter=1000)\n",
    "SGD.fit(FeaturesTrain, LabelsTrain)"
   ]
  },
  {
   "cell_type": "code",
   "execution_count": 36,
   "metadata": {},
   "outputs": [
    {
     "data": {
      "text/plain": [
       "0.982741847978598"
      ]
     },
     "execution_count": 36,
     "metadata": {},
     "output_type": "execute_result"
    }
   ],
   "source": [
    "LabelsPredict = SGD.predict(FeaturesTest)\n",
    "accuracy_score(LabelsTest, LabelsPredict)"
   ]
  },
  {
   "cell_type": "markdown",
   "metadata": {},
   "source": [
    "Como ya hemos podido observar con todos los métodos aplicados anteriormente, este conjunto de datos permite un alto nivel exactitud en los resultados. Por lo tanto con pocas iteraciones el método logra encontrar el punto máximo de exactitud y termina muy rapido con muy buenos resultados."
   ]
  },
  {
   "cell_type": "markdown",
   "metadata": {},
   "source": [
    "## AdaBoost Classifier\n",
    "\n",
    "AdaBoost es un método clasificador de tipo ensamble. Los modelos de tipo ensamble utilizan en cooperación varios métodos combinados estrategicamente para lograr mejorar la exactitud del algoritmo. Especificamente el AdaBoost es de tipo boosting.\n",
    "\n",
    "Los métodos de tipo boosting realizan un entrenamiento inicial sobre un algoritmo, y posteriormente para los algoritmos siguientes se enfoca el entrenamiento en aquellas probes predicciones del algoritmo previo. Se procede entonces a importar de la libreria de ensamble, el método AdaBoostClassifier.\n",
    "\n",
    "Se utiliza un único hiper parámetro, el cual corresponde al número máximo de aprendices debiles o pobres."
   ]
  },
  {
   "cell_type": "code",
   "execution_count": 39,
   "metadata": {},
   "outputs": [
    {
     "data": {
      "text/plain": [
       "AdaBoostClassifier(algorithm='SAMME.R', base_estimator=None, learning_rate=1.0,\n",
       "                   n_estimators=100, random_state=None)"
      ]
     },
     "execution_count": 39,
     "metadata": {},
     "output_type": "execute_result"
    }
   ],
   "source": [
    "from sklearn.ensemble import AdaBoostClassifier\n",
    "\n",
    "ABC = AdaBoostClassifier(n_estimators=100)\n",
    "ABC.fit(FeaturesTrain, LabelsTrain)"
   ]
  },
  {
   "cell_type": "code",
   "execution_count": 40,
   "metadata": {},
   "outputs": [
    {
     "data": {
      "text/plain": [
       "0.983041176360541"
      ]
     },
     "execution_count": 40,
     "metadata": {},
     "output_type": "execute_result"
    }
   ],
   "source": [
    "LabelsPredict = ABC.predict(FeaturesTest)\n",
    "accuracy_score(LabelsTest, LabelsPredict)"
   ]
  },
  {
   "cell_type": "markdown",
   "metadata": {},
   "source": [
    "El algoritmo tiene la capacidad de igual forma de detenerse cuando los resultados no presenten mejora. El resultado obtenido es muy positivo y en un tiempo realmente rápido."
   ]
  },
  {
   "cell_type": "markdown",
   "metadata": {},
   "source": [
    "# Conclusiones\n",
    "\n",
    "A excepción del método SVC, todos los demas tuvieron un rendimiento realmente acpetable. Al final, el conjunto de datos utilizado no presento mayor rato para los algoritmos. Sin embargo si se ven diferencias bastantes significativas en algunos casos en terminos de tiempo para poder obtener el algoritmo. A pesar de tener buenos resultados siempre se busca poder obtenerlos en la menor cantidad de tiempo posible."
   ]
  }
 ],
 "metadata": {
  "kernelspec": {
   "display_name": "Python 3",
   "language": "python",
   "name": "python3"
  },
  "language_info": {
   "codemirror_mode": {
    "name": "ipython",
    "version": 3
   },
   "file_extension": ".py",
   "mimetype": "text/x-python",
   "name": "python",
   "nbconvert_exporter": "python",
   "pygments_lexer": "ipython3",
   "version": "3.7.3"
  }
 },
 "nbformat": 4,
 "nbformat_minor": 2
}
